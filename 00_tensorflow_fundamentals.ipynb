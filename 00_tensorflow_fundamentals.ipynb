{
 "cells": [
  {
   "cell_type": "code",
   "execution_count": 1,
   "metadata": {
    "colab": {
     "base_uri": "https://localhost:8080/"
    },
    "executionInfo": {
     "elapsed": 525,
     "status": "ok",
     "timestamp": 1645883697267,
     "user": {
      "displayName": "Asif Hossain",
      "photoUrl": "https://lh3.googleusercontent.com/a-/AOh14GgpjiHW0uXt9Qx73Brg33IJPQQdy4A_nkxSlSdjxQ=s64",
      "userId": "13475621331134585497"
     },
     "user_tz": -360
    },
    "id": "dQMqyDQ7-xDu",
    "outputId": "08fd87e0-e635-41bb-b79f-ffe2e55ea7f7"
   },
   "outputs": [
    {
     "name": "stdout",
     "output_type": "stream",
     "text": [
      "2.8.0\n"
     ]
    }
   ],
   "source": [
    "#import tensorflow\n",
    "import tensorflow as tf\n",
    "print(tf.__version__)"
   ]
  },
  {
   "cell_type": "code",
   "execution_count": 30,
   "metadata": {
    "colab": {
     "base_uri": "https://localhost:8080/",
     "height": 209
    },
    "executionInfo": {
     "elapsed": 30,
     "status": "error",
     "timestamp": 1645883957736,
     "user": {
      "displayName": "Asif Hossain",
      "photoUrl": "https://lh3.googleusercontent.com/a-/AOh14GgpjiHW0uXt9Qx73Brg33IJPQQdy4A_nkxSlSdjxQ=s64",
      "userId": "13475621331134585497"
     },
     "user_tz": -360
    },
    "id": "sbldDGXW_vH-",
    "outputId": "e9d2cfcc-daeb-40e2-c5ef-035fef48b37b"
   },
   "outputs": [
    {
     "data": {
      "text/plain": [
       "<tf.Tensor: shape=(), dtype=int32, numpy=7>"
      ]
     },
     "execution_count": 30,
     "metadata": {},
     "output_type": "execute_result"
    }
   ],
   "source": [
    "# Create tensors with tf.constant()\n",
    "scalarVar = tf.constant(7)\n",
    "scalarVar"
   ]
  },
  {
   "cell_type": "code",
   "execution_count": 33,
   "metadata": {
    "colab": {
     "base_uri": "https://localhost:8080/"
    },
    "executionInfo": {
     "elapsed": 9,
     "status": "ok",
     "timestamp": 1645883708101,
     "user": {
      "displayName": "Asif Hossain",
      "photoUrl": "https://lh3.googleusercontent.com/a-/AOh14GgpjiHW0uXt9Qx73Brg33IJPQQdy4A_nkxSlSdjxQ=s64",
      "userId": "13475621331134585497"
     },
     "user_tz": -360
    },
    "id": "Qczv6I16A5HQ",
    "outputId": "d3c73852-7be4-4653-a0f8-1677c7b96b80"
   },
   "outputs": [
    {
     "data": {
      "text/plain": [
       "0"
      ]
     },
     "execution_count": 33,
     "metadata": {},
     "output_type": "execute_result"
    }
   ],
   "source": [
    "# check the number of dimensions of a tensor (ndim stans  for number of dimensions)\n",
    "scalarVar.ndim"
   ]
  },
  {
   "cell_type": "code",
   "execution_count": null,
   "metadata": {
    "colab": {
     "base_uri": "https://localhost:8080/",
     "height": 209
    },
    "executionInfo": {
     "elapsed": 15,
     "status": "error",
     "timestamp": 1645883708718,
     "user": {
      "displayName": "Asif Hossain",
      "photoUrl": "https://lh3.googleusercontent.com/a-/AOh14GgpjiHW0uXt9Qx73Brg33IJPQQdy4A_nkxSlSdjxQ=s64",
      "userId": "13475621331134585497"
     },
     "user_tz": -360
    },
    "id": "8DcJABHiBCvC",
    "outputId": "ba075cde-7bf9-46f7-eb51-b5e89cdd71ad"
   },
   "outputs": [],
   "source": [
    "#create a vector\n",
    "vector = tf.constant([10, 10])\n",
    "vector"
   ]
  },
  {
   "cell_type": "code",
   "execution_count": null,
   "metadata": {
    "colab": {
     "base_uri": "https://localhost:8080/"
    },
    "executionInfo": {
     "elapsed": 22,
     "status": "ok",
     "timestamp": 1645883709407,
     "user": {
      "displayName": "Asif Hossain",
      "photoUrl": "https://lh3.googleusercontent.com/a-/AOh14GgpjiHW0uXt9Qx73Brg33IJPQQdy4A_nkxSlSdjxQ=s64",
      "userId": "13475621331134585497"
     },
     "user_tz": -360
    },
    "id": "HkO3wbxhBVyb",
    "outputId": "901936b5-e05b-4558-8ec6-24b3198e5064"
   },
   "outputs": [],
   "source": [
    "# Check the dimension of our vector\n",
    "vector.ndim"
   ]
  },
  {
   "cell_type": "code",
   "execution_count": null,
   "metadata": {
    "colab": {
     "base_uri": "https://localhost:8080/",
     "height": 227
    },
    "executionInfo": {
     "elapsed": 20,
     "status": "error",
     "timestamp": 1645883709409,
     "user": {
      "displayName": "Asif Hossain",
      "photoUrl": "https://lh3.googleusercontent.com/a-/AOh14GgpjiHW0uXt9Qx73Brg33IJPQQdy4A_nkxSlSdjxQ=s64",
      "userId": "13475621331134585497"
     },
     "user_tz": -360
    },
    "id": "vFpCl-8_BfoN",
    "outputId": "2a0c5b00-a940-4f1d-adf8-d5e1c7d7a974"
   },
   "outputs": [],
   "source": [
    "#create a matrix ( has more than 1 dimention)\n",
    "matrix =  tf.constant([[10 , 4],\n",
    "                       [7 , 10]])\n",
    "matrix"
   ]
  },
  {
   "cell_type": "code",
   "execution_count": null,
   "metadata": {
    "colab": {
     "base_uri": "https://localhost:8080/"
    },
    "executionInfo": {
     "elapsed": 19,
     "status": "ok",
     "timestamp": 1645883709908,
     "user": {
      "displayName": "Asif Hossain",
      "photoUrl": "https://lh3.googleusercontent.com/a-/AOh14GgpjiHW0uXt9Qx73Brg33IJPQQdy4A_nkxSlSdjxQ=s64",
      "userId": "13475621331134585497"
     },
     "user_tz": -360
    },
    "id": "AF8yrfLYBbIX",
    "outputId": "6e6be493-791f-42ba-b6aa-90afa5833317"
   },
   "outputs": [],
   "source": [
    "matrix.ndim"
   ]
  },
  {
   "cell_type": "code",
   "execution_count": null,
   "metadata": {
    "colab": {
     "base_uri": "https://localhost:8080/",
     "height": 246
    },
    "executionInfo": {
     "elapsed": 20,
     "status": "error",
     "timestamp": 1645883709912,
     "user": {
      "displayName": "Asif Hossain",
      "photoUrl": "https://lh3.googleusercontent.com/a-/AOh14GgpjiHW0uXt9Qx73Brg33IJPQQdy4A_nkxSlSdjxQ=s64",
      "userId": "13475621331134585497"
     },
     "user_tz": -360
    },
    "id": "11wKIpvh8Sjw",
    "outputId": "72a4e43e-15da-41e6-8bc5-38a2ff0c8f99"
   },
   "outputs": [],
   "source": [
    "#create another matrix\n",
    "another_matrix = tf.constant([[10., 7.],\n",
    "                              [3., 2.],\n",
    "                              [8., 9.]], dtype=tf.float16) # specify the data type with dtype parameter\n",
    "another_matrix                        "
   ]
  },
  {
   "cell_type": "code",
   "execution_count": null,
   "metadata": {
    "executionInfo": {
     "elapsed": 14,
     "status": "aborted",
     "timestamp": 1645883709910,
     "user": {
      "displayName": "Asif Hossain",
      "photoUrl": "https://lh3.googleusercontent.com/a-/AOh14GgpjiHW0uXt9Qx73Brg33IJPQQdy4A_nkxSlSdjxQ=s64",
      "userId": "13475621331134585497"
     },
     "user_tz": -360
    },
    "id": "T1tVpHji-MSy"
   },
   "outputs": [],
   "source": [
    "another_matrix.ndim # another_matrix dimention"
   ]
  },
  {
   "cell_type": "code",
   "execution_count": null,
   "metadata": {
    "colab": {
     "base_uri": "https://localhost:8080/",
     "height": 227
    },
    "executionInfo": {
     "elapsed": 16,
     "status": "error",
     "timestamp": 1645883710432,
     "user": {
      "displayName": "Asif Hossain",
      "photoUrl": "https://lh3.googleusercontent.com/a-/AOh14GgpjiHW0uXt9Qx73Brg33IJPQQdy4A_nkxSlSdjxQ=s64",
      "userId": "13475621331134585497"
     },
     "user_tz": -360
    },
    "id": "aTl5fApp-jJt",
    "outputId": "9faf4118-9e41-4d63-b33c-937639167048"
   },
   "outputs": [],
   "source": [
    "#lets create a tensor\n",
    "tensor =  tf.constant([[[1,2,3],\n",
    "                        [4,5,6]],\n",
    "                       [[7,8,9],\n",
    "                        [10,11,12]]])\n",
    "tensor"
   ]
  },
  {
   "cell_type": "markdown",
   "metadata": {
    "id": "l3whk9knBE90"
   },
   "source": [
    "## **Creeating tensors with tf.variable**"
   ]
  },
  {
   "cell_type": "code",
   "execution_count": null,
   "metadata": {
    "colab": {
     "base_uri": "https://localhost:8080/",
     "height": 227
    },
    "executionInfo": {
     "elapsed": 17,
     "status": "error",
     "timestamp": 1645883712720,
     "user": {
      "displayName": "Asif Hossain",
      "photoUrl": "https://lh3.googleusercontent.com/a-/AOh14GgpjiHW0uXt9Qx73Brg33IJPQQdy4A_nkxSlSdjxQ=s64",
      "userId": "13475621331134585497"
     },
     "user_tz": -360
    },
    "id": "7EbMiwwWBxDY",
    "outputId": "a04aa3d9-ef92-4810-fa4c-07a80317d591"
   },
   "outputs": [],
   "source": [
    "#create the same tensor with tf.Variable() as above\n",
    "changeable_tensor = tf.Variable([10, 7])\n",
    "unchangeable_tensor = tf.constant([10, 7])\n",
    "changeable_tensor, unchangeable_tensor"
   ]
  },
  {
   "cell_type": "code",
   "execution_count": null,
   "metadata": {
    "colab": {
     "base_uri": "https://localhost:8080/"
    },
    "executionInfo": {
     "elapsed": 9,
     "status": "ok",
     "timestamp": 1645883713283,
     "user": {
      "displayName": "Asif Hossain",
      "photoUrl": "https://lh3.googleusercontent.com/a-/AOh14GgpjiHW0uXt9Qx73Brg33IJPQQdy4A_nkxSlSdjxQ=s64",
      "userId": "13475621331134585497"
     },
     "user_tz": -360
    },
    "id": "42ng0MhIH8-y",
    "outputId": "2d6ce112-e2c5-4890-f0a7-26d6bba17d57"
   },
   "outputs": [],
   "source": [
    "# let's try to change one of the elements in our changeable tensor\n",
    "changeable_tensor[0].assign(7)\n",
    "changeable_tensor"
   ]
  },
  {
   "cell_type": "code",
   "execution_count": null,
   "metadata": {
    "colab": {
     "base_uri": "https://localhost:8080/",
     "height": 429
    },
    "executionInfo": {
     "elapsed": 16,
     "status": "error",
     "timestamp": 1645883713853,
     "user": {
      "displayName": "Asif Hossain",
      "photoUrl": "https://lh3.googleusercontent.com/a-/AOh14GgpjiHW0uXt9Qx73Brg33IJPQQdy4A_nkxSlSdjxQ=s64",
      "userId": "13475621331134585497"
     },
     "user_tz": -360
    },
    "id": "dE7CBC1gIiNT",
    "outputId": "767797e0-2847-481d-95a4-abe187c543cb"
   },
   "outputs": [],
   "source": [
    "# let's try to change one of the elements in our unchangeable/constant tensor\n",
    "unchangeable_tensor[0].assign(5)\n",
    "unchangeable_tensor\n",
    "#unchangeable tensor cann't be edited"
   ]
  },
  {
   "cell_type": "markdown",
   "metadata": {
    "id": "2esJM1ubJzSD"
   },
   "source": [
    "**NOTE**: Rarely in practice you will need to decide whether to use tf.constant or tf.Variable to create tensors, as TensorFlow does this for you. However, If in doubt , use tf.constant and change it later if needed."
   ]
  },
  {
   "cell_type": "markdown",
   "metadata": {
    "id": "yP-JbkfhKbl7"
   },
   "source": [
    "***Creating random number ***\n",
    "\n",
    "Random tensors ae tensors of some abitrary size which contain random numbers\n"
   ]
  },
  {
   "cell_type": "code",
   "execution_count": null,
   "metadata": {
    "colab": {
     "base_uri": "https://localhost:8080/"
    },
    "executionInfo": {
     "elapsed": 8,
     "status": "ok",
     "timestamp": 1645883714756,
     "user": {
      "displayName": "Asif Hossain",
      "photoUrl": "https://lh3.googleusercontent.com/a-/AOh14GgpjiHW0uXt9Qx73Brg33IJPQQdy4A_nkxSlSdjxQ=s64",
      "userId": "13475621331134585497"
     },
     "user_tz": -360
    },
    "id": "etNtFkb_JHtw",
    "outputId": "cea28cff-c748-48ff-d9cb-54ac0a64e7bc"
   },
   "outputs": [],
   "source": [
    "# Create two random (but the same) tensors\n",
    "random_1 =  tf.random.Generator.from_seed(42)\n",
    "random_1 = random_1.normal(shape=(3, 2))\n",
    "random_2 = tf.random.Generator.from_seed(42)\n",
    "random_2 = random_2.normal(shape=(3, 2))\n",
    "\n",
    "#are they equal?\n",
    "random_1, random_2, random_1 == random_2"
   ]
  },
  {
   "cell_type": "markdown",
   "metadata": {
    "id": "_azGE5bdZqWb"
   },
   "source": [
    "**Shuffle the order of elements in tensor**"
   ]
  },
  {
   "cell_type": "code",
   "execution_count": null,
   "metadata": {
    "colab": {
     "base_uri": "https://localhost:8080/",
     "height": 227
    },
    "executionInfo": {
     "elapsed": 32,
     "status": "error",
     "timestamp": 1645883715265,
     "user": {
      "displayName": "Asif Hossain",
      "photoUrl": "https://lh3.googleusercontent.com/a-/AOh14GgpjiHW0uXt9Qx73Brg33IJPQQdy4A_nkxSlSdjxQ=s64",
      "userId": "13475621331134585497"
     },
     "user_tz": -360
    },
    "id": "aVEq3aSpZWG8",
    "outputId": "51a0f361-d6c3-4ca2-a10c-36697eb568d7"
   },
   "outputs": [],
   "source": [
    "# Shuffle a tensor (valuable for when you want to shuffle your data so the inherent order doesn't effect learning\n",
    "not_shuffle =  tf.constant([[8, 9],\n",
    "                            [9,11],\n",
    "                            [5, 6]])\n",
    "not_shuffle"
   ]
  },
  {
   "cell_type": "code",
   "execution_count": null,
   "metadata": {
    "executionInfo": {
     "elapsed": 20,
     "status": "aborted",
     "timestamp": 1645883715262,
     "user": {
      "displayName": "Asif Hossain",
      "photoUrl": "https://lh3.googleusercontent.com/a-/AOh14GgpjiHW0uXt9Qx73Brg33IJPQQdy4A_nkxSlSdjxQ=s64",
      "userId": "13475621331134585497"
     },
     "user_tz": -360
    },
    "id": "6C2SJzBkrPVV"
   },
   "outputs": [],
   "source": [
    "#shuffle our non-shuffle tensor\n",
    "tf.random.shuffle(not_shuffle)  "
   ]
  },
  {
   "cell_type": "code",
   "execution_count": null,
   "metadata": {
    "executionInfo": {
     "elapsed": 18,
     "status": "aborted",
     "timestamp": 1645883715264,
     "user": {
      "displayName": "Asif Hossain",
      "photoUrl": "https://lh3.googleusercontent.com/a-/AOh14GgpjiHW0uXt9Qx73Brg33IJPQQdy4A_nkxSlSdjxQ=s64",
      "userId": "13475621331134585497"
     },
     "user_tz": -360
    },
    "id": "GP3XFkVwzyyG"
   },
   "outputs": [],
   "source": [
    "# SEED\n",
    " #tf.random.set_seed(42) - global\n",
    "tf.random.shuffle(not_shuffle, seed = 42) # operation level random seed\n"
   ]
  },
  {
   "cell_type": "markdown",
   "metadata": {
    "id": "ovDpWSco0538"
   },
   "source": [
    "***SEED : global and operational***\n",
    "\n",
    "https://www.tensorflow.org/api_docs/python/tf/random/set_seed\n",
    "\n",
    "\n",
    "It looks like if we want our shuffled tensors to be in the same order, we've got to use the global level random as well as the operation level random Seed:\n",
    "\n",
    "**RULE :**If both the global and the operation seed are set: Both seeds are used in conjunction to determine the random sequence."
   ]
  },
  {
   "cell_type": "markdown",
   "metadata": {
    "id": "_q_AgqBH9ugy"
   },
   "source": [
    "**Other ways to make tensors**"
   ]
  },
  {
   "cell_type": "code",
   "execution_count": null,
   "metadata": {
    "colab": {
     "base_uri": "https://localhost:8080/"
    },
    "executionInfo": {
     "elapsed": 8,
     "status": "ok",
     "timestamp": 1645883715939,
     "user": {
      "displayName": "Asif Hossain",
      "photoUrl": "https://lh3.googleusercontent.com/a-/AOh14GgpjiHW0uXt9Qx73Brg33IJPQQdy4A_nkxSlSdjxQ=s64",
      "userId": "13475621331134585497"
     },
     "user_tz": -360
    },
    "id": "dBsZ_DRQ1Inv",
    "outputId": "a3bfccd1-a8fe-4a14-a7a6-9fc4e7d12dbf"
   },
   "outputs": [],
   "source": [
    "tf.ones([10, 7])"
   ]
  },
  {
   "cell_type": "code",
   "execution_count": null,
   "metadata": {
    "colab": {
     "base_uri": "https://localhost:8080/"
    },
    "executionInfo": {
     "elapsed": 29,
     "status": "ok",
     "timestamp": 1645883716415,
     "user": {
      "displayName": "Asif Hossain",
      "photoUrl": "https://lh3.googleusercontent.com/a-/AOh14GgpjiHW0uXt9Qx73Brg33IJPQQdy4A_nkxSlSdjxQ=s64",
      "userId": "13475621331134585497"
     },
     "user_tz": -360
    },
    "id": "IAseoqbz97Hf",
    "outputId": "4bee3475-a9c4-4485-d920-34a8dc311ad6"
   },
   "outputs": [],
   "source": [
    "tf.zeros(shape = (3, 4)) # create a tensor of al zeros"
   ]
  },
  {
   "cell_type": "markdown",
   "metadata": {
    "id": "SS9EH4iu-KIo"
   },
   "source": [
    "### Turn numpy into tensors\n",
    "\n",
    "the main difference between Numpy arrays and tensorflow tensors can be run on a GPU (much faster for numarical computing)"
   ]
  },
  {
   "cell_type": "code",
   "execution_count": null,
   "metadata": {
    "colab": {
     "base_uri": "https://localhost:8080/"
    },
    "executionInfo": {
     "elapsed": 22,
     "status": "ok",
     "timestamp": 1645883716419,
     "user": {
      "displayName": "Asif Hossain",
      "photoUrl": "https://lh3.googleusercontent.com/a-/AOh14GgpjiHW0uXt9Qx73Brg33IJPQQdy4A_nkxSlSdjxQ=s64",
      "userId": "13475621331134585497"
     },
     "user_tz": -360
    },
    "id": "s8QrGIqN-Bto",
    "outputId": "edeaf3ce-da77-45f3-9740-ffb9a9f59ace"
   },
   "outputs": [],
   "source": [
    "# you can also turn Numpy arrays into tensors\n",
    "import numpy as np\n",
    "numpy_A = np.arange(1, 25, dtype=np.int32) # create numpy array between 1 and 25\n",
    "numpy_A"
   ]
  },
  {
   "cell_type": "code",
   "execution_count": null,
   "metadata": {
    "colab": {
     "base_uri": "https://localhost:8080/",
     "height": 191
    },
    "executionInfo": {
     "elapsed": 1307,
     "status": "error",
     "timestamp": 1645883718686,
     "user": {
      "displayName": "Asif Hossain",
      "photoUrl": "https://lh3.googleusercontent.com/a-/AOh14GgpjiHW0uXt9Qx73Brg33IJPQQdy4A_nkxSlSdjxQ=s64",
      "userId": "13475621331134585497"
     },
     "user_tz": -360
    },
    "id": "4q9RAZtT09jm",
    "outputId": "270bb80a-565b-47ae-f008-c83759c199ec"
   },
   "outputs": [],
   "source": [
    "A = tf.constant(numpy_A)\n",
    "A"
   ]
  },
  {
   "cell_type": "code",
   "execution_count": null,
   "metadata": {
    "executionInfo": {
     "elapsed": 17,
     "status": "aborted",
     "timestamp": 1645883718674,
     "user": {
      "displayName": "Asif Hossain",
      "photoUrl": "https://lh3.googleusercontent.com/a-/AOh14GgpjiHW0uXt9Qx73Brg33IJPQQdy4A_nkxSlSdjxQ=s64",
      "userId": "13475621331134585497"
     },
     "user_tz": -360
    },
    "id": "PJHfnInM1AjE"
   },
   "outputs": [],
   "source": [
    "A = tf.constant(numpy_A, shape=(2,3,4))\n",
    "B = tf.constant(numpy_A)\n",
    "A,B"
   ]
  },
  {
   "cell_type": "markdown",
   "metadata": {
    "id": "jGMZadXpebFm"
   },
   "source": [
    "Getting information from **tensors**\n",
    "\n",
    "### when dealing with tensors you probably want to be aware of following attributes:\n",
    "\n",
    "\n",
    "*   Shape\n",
    "*   Rank\n",
    "*   Axis or dimension\n",
    "*   Size\n"
   ]
  },
  {
   "cell_type": "code",
   "execution_count": 41,
   "metadata": {
    "executionInfo": {
     "elapsed": 20,
     "status": "aborted",
     "timestamp": 1645883718679,
     "user": {
      "displayName": "Asif Hossain",
      "photoUrl": "https://lh3.googleusercontent.com/a-/AOh14GgpjiHW0uXt9Qx73Brg33IJPQQdy4A_nkxSlSdjxQ=s64",
      "userId": "13475621331134585497"
     },
     "user_tz": -360
    },
    "id": "7yPjtbKaeXZX"
   },
   "outputs": [
    {
     "data": {
      "text/plain": [
       "<tf.Tensor: shape=(2, 3, 4, 5), dtype=float32, numpy=\n",
       "array([[[[0., 0., 0., 0., 0.],\n",
       "         [0., 0., 0., 0., 0.],\n",
       "         [0., 0., 0., 0., 0.],\n",
       "         [0., 0., 0., 0., 0.]],\n",
       "\n",
       "        [[0., 0., 0., 0., 0.],\n",
       "         [0., 0., 0., 0., 0.],\n",
       "         [0., 0., 0., 0., 0.],\n",
       "         [0., 0., 0., 0., 0.]],\n",
       "\n",
       "        [[0., 0., 0., 0., 0.],\n",
       "         [0., 0., 0., 0., 0.],\n",
       "         [0., 0., 0., 0., 0.],\n",
       "         [0., 0., 0., 0., 0.]]],\n",
       "\n",
       "\n",
       "       [[[0., 0., 0., 0., 0.],\n",
       "         [0., 0., 0., 0., 0.],\n",
       "         [0., 0., 0., 0., 0.],\n",
       "         [0., 0., 0., 0., 0.]],\n",
       "\n",
       "        [[0., 0., 0., 0., 0.],\n",
       "         [0., 0., 0., 0., 0.],\n",
       "         [0., 0., 0., 0., 0.],\n",
       "         [0., 0., 0., 0., 0.]],\n",
       "\n",
       "        [[0., 0., 0., 0., 0.],\n",
       "         [0., 0., 0., 0., 0.],\n",
       "         [0., 0., 0., 0., 0.],\n",
       "         [0., 0., 0., 0., 0.]]]], dtype=float32)>"
      ]
     },
     "execution_count": 41,
     "metadata": {},
     "output_type": "execute_result"
    }
   ],
   "source": [
    " # Create a rank 4 tensor (4 dimension)\n",
    "rank_4_tensor = tf.zeros( shape =[2,3,4,5])\n",
    "rank_4_tensor"
   ]
  },
  {
   "cell_type": "code",
   "execution_count": null,
   "metadata": {
    "executionInfo": {
     "elapsed": 24,
     "status": "aborted",
     "timestamp": 1645883718683,
     "user": {
      "displayName": "Asif Hossain",
      "photoUrl": "https://lh3.googleusercontent.com/a-/AOh14GgpjiHW0uXt9Qx73Brg33IJPQQdy4A_nkxSlSdjxQ=s64",
      "userId": "13475621331134585497"
     },
     "user_tz": -360
    },
    "id": "hacWXEulznvN"
   },
   "outputs": [],
   "source": [
    "# Get various attributes of our tensor\n",
    "print(\"Datatype of every element: \", rank_4_tensor.dtype)\n",
    "print(\"Number of dimensiion (rank) : \", rank_4_tensor.ndim)\n",
    "print(\"Shape of tensor:\",rank_4_tensor.shape)\n",
    "print(\"Elements along the 0 axis:\", rank_4_tensor.shape[0])\n",
    "print(\"Elements along the last axis:\", rank_4_tensor.shape[-1])\n",
    "print(\"Total number of elements in our tensor:\", tf.size(rank_4_tensor))\n",
    "print(\"Total number of elements in our tensor:\", tf.size(rank_4_tensor).numpy())\n"
   ]
  },
  {
   "cell_type": "markdown",
   "metadata": {
    "id": "gH8CWAHoZ1if"
   },
   "source": [
    "**Indexing tensor**\n",
    "\n",
    "tensor can be indexed just like python lists"
   ]
  },
  {
   "cell_type": "code",
   "execution_count": 39,
   "metadata": {
    "colab": {
     "base_uri": "https://localhost:8080/"
    },
    "executionInfo": {
     "elapsed": 13,
     "status": "ok",
     "timestamp": 1645883719828,
     "user": {
      "displayName": "Asif Hossain",
      "photoUrl": "https://lh3.googleusercontent.com/a-/AOh14GgpjiHW0uXt9Qx73Brg33IJPQQdy4A_nkxSlSdjxQ=s64",
      "userId": "13475621331134585497"
     },
     "user_tz": -360
    },
    "id": "DH60duuPFxxq",
    "outputId": "c42b1c18-4aed-43e8-e674-d41880fe1141"
   },
   "outputs": [
    {
     "data": {
      "text/plain": [
       "[1, 2, 3, 4]"
      ]
     },
     "execution_count": 39,
     "metadata": {},
     "output_type": "execute_result"
    }
   ],
   "source": [
    "some_list = [1, 2, 3, 4]\n",
    "some_list"
   ]
  },
  {
   "cell_type": "markdown",
   "metadata": {
    "id": "HP9LHLgZaQvA"
   },
   "source": []
  },
  {
   "cell_type": "code",
   "execution_count": 42,
   "metadata": {
    "colab": {
     "base_uri": "https://localhost:8080/"
    },
    "executionInfo": {
     "elapsed": 37,
     "status": "ok",
     "timestamp": 1645883720825,
     "user": {
      "displayName": "Asif Hossain",
      "photoUrl": "https://lh3.googleusercontent.com/a-/AOh14GgpjiHW0uXt9Qx73Brg33IJPQQdy4A_nkxSlSdjxQ=s64",
      "userId": "13475621331134585497"
     },
     "user_tz": -360
    },
    "id": "QfCQlhjmaLb8",
    "outputId": "9754d272-cbb6-4b68-fea9-bbec9bf6ea49"
   },
   "outputs": [
    {
     "data": {
      "text/plain": [
       "<tf.Tensor: shape=(2, 2, 2, 2), dtype=float32, numpy=\n",
       "array([[[[0., 0.],\n",
       "         [0., 0.]],\n",
       "\n",
       "        [[0., 0.],\n",
       "         [0., 0.]]],\n",
       "\n",
       "\n",
       "       [[[0., 0.],\n",
       "         [0., 0.]],\n",
       "\n",
       "        [[0., 0.],\n",
       "         [0., 0.]]]], dtype=float32)>"
      ]
     },
     "execution_count": 42,
     "metadata": {},
     "output_type": "execute_result"
    }
   ],
   "source": [
    "# Get the first 2 elements of each dimension\n",
    "rank_4_tensor[:2 , :2, :2, :2]"
   ]
  },
  {
   "cell_type": "code",
   "execution_count": 43,
   "metadata": {
    "colab": {
     "base_uri": "https://localhost:8080/"
    },
    "executionInfo": {
     "elapsed": 37,
     "status": "ok",
     "timestamp": 1645883720827,
     "user": {
      "displayName": "Asif Hossain",
      "photoUrl": "https://lh3.googleusercontent.com/a-/AOh14GgpjiHW0uXt9Qx73Brg33IJPQQdy4A_nkxSlSdjxQ=s64",
      "userId": "13475621331134585497"
     },
     "user_tz": -360
    },
    "id": "XCFmi2PHay6e",
    "outputId": "3d511437-3b1b-4771-8d95-0baf875a08fa"
   },
   "outputs": [
    {
     "data": {
      "text/plain": [
       "<tf.Tensor: shape=(1, 1, 1, 1), dtype=float32, numpy=array([[[[0.]]]], dtype=float32)>"
      ]
     },
     "execution_count": 43,
     "metadata": {},
     "output_type": "execute_result"
    }
   ],
   "source": [
    "# get the first element from each dimension from each index except for the final one\n",
    "rank_4_tensor[:1 , :1, :1, :1]"
   ]
  },
  {
   "cell_type": "code",
   "execution_count": 35,
   "metadata": {
    "colab": {
     "base_uri": "https://localhost:8080/",
     "height": 227
    },
    "executionInfo": {
     "elapsed": 42,
     "status": "error",
     "timestamp": 1645883720839,
     "user": {
      "displayName": "Asif Hossain",
      "photoUrl": "https://lh3.googleusercontent.com/a-/AOh14GgpjiHW0uXt9Qx73Brg33IJPQQdy4A_nkxSlSdjxQ=s64",
      "userId": "13475621331134585497"
     },
     "user_tz": -360
    },
    "id": "X9Di2uEkIgRr",
    "outputId": "49d03795-9ade-46f3-cafb-4ee331f46be8"
   },
   "outputs": [
    {
     "data": {
      "text/plain": [
       "(TensorShape([2, 2]),\n",
       " 2,\n",
       " <tf.Tensor: shape=(2, 2), dtype=int32, numpy=\n",
       " array([[10,  7],\n",
       "        [ 3,  4]])>)"
      ]
     },
     "execution_count": 35,
     "metadata": {},
     "output_type": "execute_result"
    }
   ],
   "source": [
    "# Create a rank 2 tensor (2 dimensions)\n",
    "rank_2_tensor = tf.constant([[10, 7],\n",
    "                             [3, 4]])\n",
    "rank_2_tensor.shape, rank_2_tensor.ndim,rank_2_tensor"
   ]
  },
  {
   "cell_type": "code",
   "execution_count": 44,
   "metadata": {
    "colab": {
     "base_uri": "https://localhost:8080/"
    },
    "executionInfo": {
     "elapsed": 7,
     "status": "ok",
     "timestamp": 1645883800746,
     "user": {
      "displayName": "Asif Hossain",
      "photoUrl": "https://lh3.googleusercontent.com/a-/AOh14GgpjiHW0uXt9Qx73Brg33IJPQQdy4A_nkxSlSdjxQ=s64",
      "userId": "13475621331134585497"
     },
     "user_tz": -360
    },
    "id": "LRIe_J7eSVqj",
    "outputId": "4ee5c2b1-118e-48f1-e5d4-109ce47c9b1f"
   },
   "outputs": [
    {
     "data": {
      "text/plain": [
       "([1, 2, 3, 4], 4)"
      ]
     },
     "execution_count": 44,
     "metadata": {},
     "output_type": "execute_result"
    }
   ],
   "source": [
    "some_list,some_list[-1]"
   ]
  },
  {
   "cell_type": "code",
   "execution_count": 45,
   "metadata": {
    "colab": {
     "base_uri": "https://localhost:8080/"
    },
    "executionInfo": {
     "elapsed": 510,
     "status": "ok",
     "timestamp": 1645883800083,
     "user": {
      "displayName": "Asif Hossain",
      "photoUrl": "https://lh3.googleusercontent.com/a-/AOh14GgpjiHW0uXt9Qx73Brg33IJPQQdy4A_nkxSlSdjxQ=s64",
      "userId": "13475621331134585497"
     },
     "user_tz": -360
    },
    "id": "TPx58QOvSdgI",
    "outputId": "5bb0cb1f-4b09-49b5-f446-dba4ebe6c654"
   },
   "outputs": [
    {
     "data": {
      "text/plain": [
       "<tf.Tensor: shape=(2,), dtype=int32, numpy=array([7, 4])>"
      ]
     },
     "execution_count": 45,
     "metadata": {},
     "output_type": "execute_result"
    }
   ],
   "source": [
    "#GEt the last item of each of row of our rank 2 tensor\n",
    "rank_2_tensor[:, -1]"
   ]
  },
  {
   "cell_type": "code",
   "execution_count": 46,
   "metadata": {
    "colab": {
     "base_uri": "https://localhost:8080/"
    },
    "executionInfo": {
     "elapsed": 6,
     "status": "ok",
     "timestamp": 1645883797502,
     "user": {
      "displayName": "Asif Hossain",
      "photoUrl": "https://lh3.googleusercontent.com/a-/AOh14GgpjiHW0uXt9Qx73Brg33IJPQQdy4A_nkxSlSdjxQ=s64",
      "userId": "13475621331134585497"
     },
     "user_tz": -360
    },
    "id": "feGIDnL-StPZ",
    "outputId": "67f1bd8e-114f-43c8-f6cb-9ce10369fe79"
   },
   "outputs": [
    {
     "data": {
      "text/plain": [
       "<tf.Tensor: shape=(2, 2, 1), dtype=int32, numpy=\n",
       "array([[[10],\n",
       "        [ 7]],\n",
       "\n",
       "       [[ 3],\n",
       "        [ 4]]])>"
      ]
     },
     "execution_count": 46,
     "metadata": {},
     "output_type": "execute_result"
    }
   ],
   "source": [
    "# Add in extra dimension to our rank 2 tensor\n",
    "rank_3_tensor = rank_2_tensor[...,tf.newaxis] #... means [:, : , tf.newaxis]\n",
    "rank_3_tensor"
   ]
  },
  {
   "cell_type": "code",
   "execution_count": 47,
   "metadata": {
    "colab": {
     "base_uri": "https://localhost:8080/"
    },
    "executionInfo": {
     "elapsed": 11,
     "status": "ok",
     "timestamp": 1645883795270,
     "user": {
      "displayName": "Asif Hossain",
      "photoUrl": "https://lh3.googleusercontent.com/a-/AOh14GgpjiHW0uXt9Qx73Brg33IJPQQdy4A_nkxSlSdjxQ=s64",
      "userId": "13475621331134585497"
     },
     "user_tz": -360
    },
    "id": "XkxpaH2RTKYI",
    "outputId": "36ae3750-c27b-442e-db0f-073b245f493f"
   },
   "outputs": [
    {
     "data": {
      "text/plain": [
       "<tf.Tensor: shape=(2, 2, 1), dtype=int32, numpy=\n",
       "array([[[10],\n",
       "        [ 7]],\n",
       "\n",
       "       [[ 3],\n",
       "        [ 4]]])>"
      ]
     },
     "execution_count": 47,
     "metadata": {},
     "output_type": "execute_result"
    }
   ],
   "source": [
    "# Alternative to tf.newaxis\n",
    "tf.expand_dims(rank_2_tensor, axis=-1) # -1 means dim er sheke 1 dim add hobe\n"
   ]
  },
  {
   "cell_type": "code",
   "execution_count": 48,
   "metadata": {
    "colab": {
     "base_uri": "https://localhost:8080/"
    },
    "executionInfo": {
     "elapsed": 14,
     "status": "ok",
     "timestamp": 1645883794109,
     "user": {
      "displayName": "Asif Hossain",
      "photoUrl": "https://lh3.googleusercontent.com/a-/AOh14GgpjiHW0uXt9Qx73Brg33IJPQQdy4A_nkxSlSdjxQ=s64",
      "userId": "13475621331134585497"
     },
     "user_tz": -360
    },
    "id": "v80aXnb0TKf4",
    "outputId": "f98fa537-9a39-4956-c9b6-6ce2d447a723"
   },
   "outputs": [
    {
     "data": {
      "text/plain": [
       "<tf.Tensor: shape=(1, 2, 2), dtype=int32, numpy=\n",
       "array([[[10,  7],\n",
       "        [ 3,  4]]])>"
      ]
     },
     "execution_count": 48,
     "metadata": {},
     "output_type": "execute_result"
    }
   ],
   "source": [
    "# Expand the 0-axis\n",
    "tf.expand_dims(rank_2_tensor, axis=0) #expand at 0-axis"
   ]
  },
  {
   "cell_type": "code",
   "execution_count": 49,
   "metadata": {
    "colab": {
     "base_uri": "https://localhost:8080/"
    },
    "executionInfo": {
     "elapsed": 440,
     "status": "ok",
     "timestamp": 1645883792404,
     "user": {
      "displayName": "Asif Hossain",
      "photoUrl": "https://lh3.googleusercontent.com/a-/AOh14GgpjiHW0uXt9Qx73Brg33IJPQQdy4A_nkxSlSdjxQ=s64",
      "userId": "13475621331134585497"
     },
     "user_tz": -360
    },
    "id": "6-uo6aUMeVwz",
    "outputId": "d0d4ad36-9490-4598-dfdc-6f512b6f2fab"
   },
   "outputs": [
    {
     "data": {
      "text/plain": [
       "<tf.Tensor: shape=(2, 2), dtype=int32, numpy=\n",
       "array([[10,  7],\n",
       "       [ 3,  4]])>"
      ]
     },
     "execution_count": 49,
     "metadata": {},
     "output_type": "execute_result"
    }
   ],
   "source": [
    "rank_2_tensor"
   ]
  },
  {
   "cell_type": "markdown",
   "metadata": {
    "id": "OjMzuwhreha4"
   },
   "source": [
    "**### Manipulating tensors (tensor Operation)**\n",
    "\n",
    "** Basic operation **\n",
    "\n",
    "+ , - , * , / \n"
   ]
  },
  {
   "cell_type": "code",
   "execution_count": 8,
   "metadata": {
    "colab": {
     "base_uri": "https://localhost:8080/",
     "height": 227
    },
    "executionInfo": {
     "elapsed": 35,
     "status": "error",
     "timestamp": 1645883722755,
     "user": {
      "displayName": "Asif Hossain",
      "photoUrl": "https://lh3.googleusercontent.com/a-/AOh14GgpjiHW0uXt9Qx73Brg33IJPQQdy4A_nkxSlSdjxQ=s64",
      "userId": "13475621331134585497"
     },
     "user_tz": -360
    },
    "id": "cyjUJJiIecBS",
    "outputId": "76c9e9b7-0262-4449-f8b4-f7cf77346c6a"
   },
   "outputs": [
    {
     "data": {
      "text/plain": [
       "<tf.Tensor: shape=(2, 2), dtype=int32, numpy=\n",
       "array([[20, 17],\n",
       "       [13, 14]])>"
      ]
     },
     "execution_count": 8,
     "metadata": {},
     "output_type": "execute_result"
    }
   ],
   "source": [
    " # You can add values to a tensor using the addition operation\n",
    "tensor =  tf.constant([[10, 7],\n",
    "                        [3, 4]])\n",
    "tensor +10 # also works as subtraction"
   ]
  },
  {
   "cell_type": "code",
   "execution_count": 9,
   "metadata": {
    "colab": {
     "base_uri": "https://localhost:8080/"
    },
    "executionInfo": {
     "elapsed": 8,
     "status": "ok",
     "timestamp": 1645883781732,
     "user": {
      "displayName": "Asif Hossain",
      "photoUrl": "https://lh3.googleusercontent.com/a-/AOh14GgpjiHW0uXt9Qx73Brg33IJPQQdy4A_nkxSlSdjxQ=s64",
      "userId": "13475621331134585497"
     },
     "user_tz": -360
    },
    "id": "jvlulxkRfxyS",
    "outputId": "c74efeba-ef8e-4287-acb6-f9ef768d881f"
   },
   "outputs": [
    {
     "data": {
      "text/plain": [
       "<tf.Tensor: shape=(2, 2), dtype=int32, numpy=\n",
       "array([[10,  7],\n",
       "       [ 3,  4]])>"
      ]
     },
     "execution_count": 9,
     "metadata": {},
     "output_type": "execute_result"
    }
   ],
   "source": [
    "# original tensor unchanged\n",
    "tensor "
   ]
  },
  {
   "cell_type": "code",
   "execution_count": 10,
   "metadata": {
    "colab": {
     "base_uri": "https://localhost:8080/"
    },
    "executionInfo": {
     "elapsed": 18,
     "status": "ok",
     "timestamp": 1645883780414,
     "user": {
      "displayName": "Asif Hossain",
      "photoUrl": "https://lh3.googleusercontent.com/a-/AOh14GgpjiHW0uXt9Qx73Brg33IJPQQdy4A_nkxSlSdjxQ=s64",
      "userId": "13475621331134585497"
     },
     "user_tz": -360
    },
    "id": "stLId4I-gFHC",
    "outputId": "645a0133-92ff-4039-b92c-97d21a6fdba8"
   },
   "outputs": [
    {
     "data": {
      "text/plain": [
       "<tf.Tensor: shape=(2, 2), dtype=int32, numpy=\n",
       "array([[100,  70],\n",
       "       [ 30,  40]])>"
      ]
     },
     "execution_count": 10,
     "metadata": {},
     "output_type": "execute_result"
    }
   ],
   "source": [
    "# Multiplication/divition also works\n",
    "tensor * 10"
   ]
  },
  {
   "cell_type": "code",
   "execution_count": 11,
   "metadata": {
    "colab": {
     "base_uri": "https://localhost:8080/"
    },
    "executionInfo": {
     "elapsed": 15,
     "status": "ok",
     "timestamp": 1645883779224,
     "user": {
      "displayName": "Asif Hossain",
      "photoUrl": "https://lh3.googleusercontent.com/a-/AOh14GgpjiHW0uXt9Qx73Brg33IJPQQdy4A_nkxSlSdjxQ=s64",
      "userId": "13475621331134585497"
     },
     "user_tz": -360
    },
    "id": "DPvvnqzwgRL5",
    "outputId": "6a3ae1eb-e5e6-48d7-9506-a9fbd3932186"
   },
   "outputs": [
    {
     "data": {
      "text/plain": [
       "<tf.Tensor: shape=(2, 2), dtype=int32, numpy=\n",
       "array([[100,  70],\n",
       "       [ 30,  40]])>"
      ]
     },
     "execution_count": 11,
     "metadata": {},
     "output_type": "execute_result"
    }
   ],
   "source": [
    "# We can use the tensorflow built-in function too\n",
    "tf.multiply(tensor, 10) "
   ]
  },
  {
   "cell_type": "code",
   "execution_count": 12,
   "metadata": {
    "colab": {
     "base_uri": "https://localhost:8080/"
    },
    "executionInfo": {
     "elapsed": 447,
     "status": "ok",
     "timestamp": 1645883777449,
     "user": {
      "displayName": "Asif Hossain",
      "photoUrl": "https://lh3.googleusercontent.com/a-/AOh14GgpjiHW0uXt9Qx73Brg33IJPQQdy4A_nkxSlSdjxQ=s64",
      "userId": "13475621331134585497"
     },
     "user_tz": -360
    },
    "id": "4ESYR5A3grBf",
    "outputId": "4a4207a7-aeae-4a70-fd5d-a5b46c3e3ac1"
   },
   "outputs": [
    {
     "data": {
      "text/plain": [
       "<tf.Tensor: shape=(2, 2), dtype=int32, numpy=\n",
       "array([[20, 17],\n",
       "       [13, 14]])>"
      ]
     },
     "execution_count": 12,
     "metadata": {},
     "output_type": "execute_result"
    }
   ],
   "source": [
    "tf.add(tensor, 10)"
   ]
  },
  {
   "cell_type": "markdown",
   "metadata": {
    "id": "F4U_NACmhyRN"
   },
   "source": [
    "**Matrix Multiplication**"
   ]
  },
  {
   "cell_type": "code",
   "execution_count": 13,
   "metadata": {
    "colab": {
     "base_uri": "https://localhost:8080/"
    },
    "executionInfo": {
     "elapsed": 48,
     "status": "ok",
     "timestamp": 1645883725360,
     "user": {
      "displayName": "Asif Hossain",
      "photoUrl": "https://lh3.googleusercontent.com/a-/AOh14GgpjiHW0uXt9Qx73Brg33IJPQQdy4A_nkxSlSdjxQ=s64",
      "userId": "13475621331134585497"
     },
     "user_tz": -360
    },
    "id": "LSsw9tPThgrp",
    "outputId": "7c441b4a-3078-4ecc-a513-550a04086979"
   },
   "outputs": [
    {
     "name": "stdout",
     "output_type": "stream",
     "text": [
      "tf.Tensor(\n",
      "[[10  7]\n",
      " [ 3  4]], shape=(2, 2), dtype=int32)\n"
     ]
    },
    {
     "data": {
      "text/plain": [
       "<tf.Tensor: shape=(2, 2), dtype=int32, numpy=\n",
       "array([[121,  98],\n",
       "       [ 42,  37]])>"
      ]
     },
     "execution_count": 13,
     "metadata": {},
     "output_type": "execute_result"
    }
   ],
   "source": [
    "# matrix multiplication in tensorflow\n",
    "print(tensor)\n",
    "tf.matmul(tensor, tensor)"
   ]
  },
  {
   "cell_type": "code",
   "execution_count": 14,
   "metadata": {
    "colab": {
     "base_uri": "https://localhost:8080/"
    },
    "executionInfo": {
     "elapsed": 48,
     "status": "ok",
     "timestamp": 1645883725365,
     "user": {
      "displayName": "Asif Hossain",
      "photoUrl": "https://lh3.googleusercontent.com/a-/AOh14GgpjiHW0uXt9Qx73Brg33IJPQQdy4A_nkxSlSdjxQ=s64",
      "userId": "13475621331134585497"
     },
     "user_tz": -360
    },
    "id": "fRIA-55vseQI",
    "outputId": "c652b80c-093f-42cb-f792-0000588786fa"
   },
   "outputs": [
    {
     "data": {
      "text/plain": [
       "(<tf.Tensor: shape=(2, 2), dtype=int32, numpy=\n",
       " array([[10,  7],\n",
       "        [ 3,  4]])>,\n",
       " <tf.Tensor: shape=(2, 2), dtype=int32, numpy=\n",
       " array([[100,  49],\n",
       "        [  9,  16]])>)"
      ]
     },
     "execution_count": 14,
     "metadata": {},
     "output_type": "execute_result"
    }
   ],
   "source": [
    "tensor, tensor * tensor"
   ]
  },
  {
   "cell_type": "code",
   "execution_count": 15,
   "metadata": {
    "colab": {
     "base_uri": "https://localhost:8080/"
    },
    "executionInfo": {
     "elapsed": 42,
     "status": "ok",
     "timestamp": 1645883725366,
     "user": {
      "displayName": "Asif Hossain",
      "photoUrl": "https://lh3.googleusercontent.com/a-/AOh14GgpjiHW0uXt9Qx73Brg33IJPQQdy4A_nkxSlSdjxQ=s64",
      "userId": "13475621331134585497"
     },
     "user_tz": -360
    },
    "id": "5HHpOg-ysnOS",
    "outputId": "8ea94f80-2a1e-4202-aa3a-003fc6e53223"
   },
   "outputs": [
    {
     "data": {
      "text/plain": [
       "<tf.Tensor: shape=(2, 2), dtype=int32, numpy=\n",
       "array([[10,  7],\n",
       "       [ 3,  4]])>"
      ]
     },
     "execution_count": 15,
     "metadata": {},
     "output_type": "execute_result"
    }
   ],
   "source": [
    "tensor"
   ]
  },
  {
   "cell_type": "code",
   "execution_count": 16,
   "metadata": {
    "colab": {
     "base_uri": "https://localhost:8080/"
    },
    "executionInfo": {
     "elapsed": 35,
     "status": "ok",
     "timestamp": 1645883725367,
     "user": {
      "displayName": "Asif Hossain",
      "photoUrl": "https://lh3.googleusercontent.com/a-/AOh14GgpjiHW0uXt9Qx73Brg33IJPQQdy4A_nkxSlSdjxQ=s64",
      "userId": "13475621331134585497"
     },
     "user_tz": -360
    },
    "id": "8ML5J8FZtije",
    "outputId": "b8f2a8dc-e441-49e2-e61d-a5f3f1477efe"
   },
   "outputs": [
    {
     "data": {
      "text/plain": [
       "<tf.Tensor: shape=(2, 2), dtype=int32, numpy=\n",
       "array([[121,  98],\n",
       "       [ 42,  37]])>"
      ]
     },
     "execution_count": 16,
     "metadata": {},
     "output_type": "execute_result"
    }
   ],
   "source": [
    "# Matrix multiplication with python operator \"@\"\n",
    "tensor @ tensor"
   ]
  },
  {
   "cell_type": "code",
   "execution_count": 17,
   "metadata": {
    "colab": {
     "base_uri": "https://localhost:8080/",
     "height": 246
    },
    "executionInfo": {
     "elapsed": 32,
     "status": "error",
     "timestamp": 1645883725370,
     "user": {
      "displayName": "Asif Hossain",
      "photoUrl": "https://lh3.googleusercontent.com/a-/AOh14GgpjiHW0uXt9Qx73Brg33IJPQQdy4A_nkxSlSdjxQ=s64",
      "userId": "13475621331134585497"
     },
     "user_tz": -360
    },
    "id": "WDETb1I9ufOD",
    "outputId": "8d4b0d43-44c9-4803-d6e0-93d9dd194aed"
   },
   "outputs": [
    {
     "data": {
      "text/plain": [
       "(<tf.Tensor: shape=(3, 2), dtype=int32, numpy=\n",
       " array([[20, 59],\n",
       "        [34, 57],\n",
       "        [30, 60]])>,\n",
       " <tf.Tensor: shape=(3, 2), dtype=float32, numpy=\n",
       " array([[1., 1.],\n",
       "        [1., 1.],\n",
       "        [1., 1.]], dtype=float32)>)"
      ]
     },
     "execution_count": 17,
     "metadata": {},
     "output_type": "execute_result"
    }
   ],
   "source": [
    "X = tf.constant([[1, 2, 5],\n",
    "                 [7, 2, 1],\n",
    "                 [3, 3, 3]])\n",
    "Y = tf.constant([[3, 5],\n",
    "                [6, 7],\n",
    "                [1, 8]]) \n",
    "alt = tf.ones([3, 2])\n",
    "X @ Y, alt"
   ]
  },
  {
   "cell_type": "code",
   "execution_count": 18,
   "metadata": {
    "executionInfo": {
     "elapsed": 4,
     "status": "ok",
     "timestamp": 1645883744473,
     "user": {
      "displayName": "Asif Hossain",
      "photoUrl": "https://lh3.googleusercontent.com/a-/AOh14GgpjiHW0uXt9Qx73Brg33IJPQQdy4A_nkxSlSdjxQ=s64",
      "userId": "13475621331134585497"
     },
     "user_tz": -360
    },
    "id": "oxfmQSqRznHH"
   },
   "outputs": [],
   "source": [
    "# Try to matrix muliply tensor of same shape"
   ]
  },
  {
   "cell_type": "code",
   "execution_count": 19,
   "metadata": {
    "colab": {
     "base_uri": "https://localhost:8080/"
    },
    "executionInfo": {
     "elapsed": 6,
     "status": "ok",
     "timestamp": 1645883746244,
     "user": {
      "displayName": "Asif Hossain",
      "photoUrl": "https://lh3.googleusercontent.com/a-/AOh14GgpjiHW0uXt9Qx73Brg33IJPQQdy4A_nkxSlSdjxQ=s64",
      "userId": "13475621331134585497"
     },
     "user_tz": -360
    },
    "id": "UmhMfoblxJzb",
    "outputId": "13367145-9e17-4a86-f60e-84861d54f936"
   },
   "outputs": [
    {
     "data": {
      "text/plain": [
       "<tf.Tensor: shape=(1, 9), dtype=int32, numpy=array([[1, 2, 5, 7, 2, 1, 3, 3, 3]])>"
      ]
     },
     "execution_count": 19,
     "metadata": {},
     "output_type": "execute_result"
    }
   ],
   "source": [
    "# Let's change the shape of Y\n",
    "tf.reshape(X, shape=(1, 9))"
   ]
  },
  {
   "cell_type": "code",
   "execution_count": 20,
   "metadata": {
    "colab": {
     "base_uri": "https://localhost:8080/"
    },
    "executionInfo": {
     "elapsed": 432,
     "status": "ok",
     "timestamp": 1645883749497,
     "user": {
      "displayName": "Asif Hossain",
      "photoUrl": "https://lh3.googleusercontent.com/a-/AOh14GgpjiHW0uXt9Qx73Brg33IJPQQdy4A_nkxSlSdjxQ=s64",
      "userId": "13475621331134585497"
     },
     "user_tz": -360
    },
    "id": "8APUdznGyFQO",
    "outputId": "476bea39-5a78-4ab9-b2ce-587a19d574c7"
   },
   "outputs": [
    {
     "data": {
      "text/plain": [
       "(<tf.Tensor: shape=(3, 3), dtype=int32, numpy=\n",
       " array([[1, 2, 5],\n",
       "        [7, 2, 1],\n",
       "        [3, 3, 3]])>,\n",
       " <tf.Tensor: shape=(3, 2), dtype=int32, numpy=\n",
       " array([[3, 5],\n",
       "        [6, 7],\n",
       "        [1, 8]])>,\n",
       " <tf.Tensor: shape=(3, 2), dtype=int32, numpy=\n",
       " array([[20, 59],\n",
       "        [34, 57],\n",
       "        [30, 60]])>)"
      ]
     },
     "execution_count": 20,
     "metadata": {},
     "output_type": "execute_result"
    }
   ],
   "source": [
    "# reshape and multiply\n",
    "X, Y, X @ tf.reshape(Y, shape=(3, 2))"
   ]
  },
  {
   "cell_type": "code",
   "execution_count": 21,
   "metadata": {
    "colab": {
     "base_uri": "https://localhost:8080/"
    },
    "executionInfo": {
     "elapsed": 431,
     "status": "ok",
     "timestamp": 1645883752835,
     "user": {
      "displayName": "Asif Hossain",
      "photoUrl": "https://lh3.googleusercontent.com/a-/AOh14GgpjiHW0uXt9Qx73Brg33IJPQQdy4A_nkxSlSdjxQ=s64",
      "userId": "13475621331134585497"
     },
     "user_tz": -360
    },
    "id": "68culwdA0gWI",
    "outputId": "2f1670fc-8638-4894-b953-de5f403ef6f0"
   },
   "outputs": [
    {
     "data": {
      "text/plain": [
       "(<tf.Tensor: shape=(2, 3), dtype=float32, numpy=\n",
       " array([[1., 1., 1.],\n",
       "        [1., 1., 1.]], dtype=float32)>,\n",
       " <tf.Tensor: shape=(3, 2), dtype=int32, numpy=\n",
       " array([[3, 5],\n",
       "        [6, 7],\n",
       "        [1, 8]])>,\n",
       " <tf.Tensor: shape=(3, 2), dtype=int32, numpy=\n",
       " array([[3, 5],\n",
       "        [6, 7],\n",
       "        [1, 8]])>)"
      ]
     },
     "execution_count": 21,
     "metadata": {},
     "output_type": "execute_result"
    }
   ],
   "source": [
    "# Transpose\n",
    "tf.transpose(alt), Y,  tf.reshape(Y, shape=(3, 2))"
   ]
  },
  {
   "cell_type": "markdown",
   "metadata": {
    "id": "bd-LY0xS4MKi"
   },
   "source": [
    "**The DOT PRODUCT**\n",
    "\n",
    "Matrix multiplication is also referred to as the dot product\n",
    "\n",
    "You can perform matrix multiplication using : \n",
    "\n",
    "\n",
    "*   tf.matmul()\n",
    "*   tf.rensordot()\n"
   ]
  },
  {
   "cell_type": "code",
   "execution_count": 22,
   "metadata": {
    "colab": {
     "base_uri": "https://localhost:8080/"
    },
    "executionInfo": {
     "elapsed": 34,
     "status": "ok",
     "timestamp": 1645883726039,
     "user": {
      "displayName": "Asif Hossain",
      "photoUrl": "https://lh3.googleusercontent.com/a-/AOh14GgpjiHW0uXt9Qx73Brg33IJPQQdy4A_nkxSlSdjxQ=s64",
      "userId": "13475621331134585497"
     },
     "user_tz": -360
    },
    "id": "vnsBHMAF3arf",
    "outputId": "5c601eef-2f07-435e-ca4c-bf53bb6a33f6"
   },
   "outputs": [
    {
     "data": {
      "text/plain": [
       "(<tf.Tensor: shape=(3, 2), dtype=int32, numpy=\n",
       " array([[48, 78],\n",
       "        [21, 48],\n",
       "        [24, 56]])>,\n",
       " TensorShape([3, 3]),\n",
       " TensorShape([3, 2]))"
      ]
     },
     "execution_count": 22,
     "metadata": {},
     "output_type": "execute_result"
    }
   ],
   "source": [
    "# Perform the dot product on X and Y (requires X or Y to be transposed)\n",
    "tf.tensordot(tf.transpose(X), Y, axes=1), X.shape, Y.shape"
   ]
  },
  {
   "cell_type": "code",
   "execution_count": 23,
   "metadata": {
    "colab": {
     "base_uri": "https://localhost:8080/"
    },
    "executionInfo": {
     "elapsed": 33,
     "status": "ok",
     "timestamp": 1645883726041,
     "user": {
      "displayName": "Asif Hossain",
      "photoUrl": "https://lh3.googleusercontent.com/a-/AOh14GgpjiHW0uXt9Qx73Brg33IJPQQdy4A_nkxSlSdjxQ=s64",
      "userId": "13475621331134585497"
     },
     "user_tz": -360
    },
    "id": "0zJ-o4Vf6oUx",
    "outputId": "561c941c-22b1-4e14-a82f-2a048cdc3b96"
   },
   "outputs": [
    {
     "data": {
      "text/plain": [
       "<tf.Tensor: shape=(3, 2), dtype=int32, numpy=\n",
       "array([[20, 59],\n",
       "       [34, 57],\n",
       "       [30, 60]])>"
      ]
     },
     "execution_count": 23,
     "metadata": {},
     "output_type": "execute_result"
    }
   ],
   "source": [
    "X @ Y"
   ]
  },
  {
   "cell_type": "code",
   "execution_count": 24,
   "metadata": {
    "colab": {
     "base_uri": "https://localhost:8080/"
    },
    "executionInfo": {
     "elapsed": 28,
     "status": "ok",
     "timestamp": 1645883726045,
     "user": {
      "displayName": "Asif Hossain",
      "photoUrl": "https://lh3.googleusercontent.com/a-/AOh14GgpjiHW0uXt9Qx73Brg33IJPQQdy4A_nkxSlSdjxQ=s64",
      "userId": "13475621331134585497"
     },
     "user_tz": -360
    },
    "id": "AoCnS96p666f",
    "outputId": "26dc43e5-ceea-497b-8efa-c19bf701f096"
   },
   "outputs": [
    {
     "data": {
      "text/plain": [
       "(TensorShape([3, 3]), TensorShape([3, 2]), TensorShape([3, 2]))"
      ]
     },
     "execution_count": 24,
     "metadata": {},
     "output_type": "execute_result"
    }
   ],
   "source": [
    "# Difference between reshape and transpose\n",
    "X.shape, Y.shape , alt.shape"
   ]
  },
  {
   "cell_type": "code",
   "execution_count": 25,
   "metadata": {
    "colab": {
     "base_uri": "https://localhost:8080/",
     "height": 209
    },
    "executionInfo": {
     "elapsed": 26,
     "status": "error",
     "timestamp": 1645883726049,
     "user": {
      "displayName": "Asif Hossain",
      "photoUrl": "https://lh3.googleusercontent.com/a-/AOh14GgpjiHW0uXt9Qx73Brg33IJPQQdy4A_nkxSlSdjxQ=s64",
      "userId": "13475621331134585497"
     },
     "user_tz": -360
    },
    "id": "5FkyufCLL7wA",
    "outputId": "c0adbe59-fe9a-4999-c404-a4bf5557d54a"
   },
   "outputs": [
    {
     "data": {
      "text/plain": [
       "<tf.Tensor: shape=(2, 3), dtype=int32, numpy=\n",
       "array([[1, 2, 3],\n",
       "       [4, 5, 6]])>"
      ]
     },
     "execution_count": 25,
     "metadata": {},
     "output_type": "execute_result"
    }
   ],
   "source": [
    "#Var1 = tf.ones([3,2])\n",
    "Var2 = tf.constant([1, 2, 3, 4, 5, 6], shape=[2, 3])\n",
    "Var2"
   ]
  },
  {
   "cell_type": "code",
   "execution_count": 26,
   "metadata": {
    "executionInfo": {
     "elapsed": 23,
     "status": "aborted",
     "timestamp": 1645883726048,
     "user": {
      "displayName": "Asif Hossain",
      "photoUrl": "https://lh3.googleusercontent.com/a-/AOh14GgpjiHW0uXt9Qx73Brg33IJPQQdy4A_nkxSlSdjxQ=s64",
      "userId": "13475621331134585497"
     },
     "user_tz": -360
    },
    "id": "g81TDcYnRT-x"
   },
   "outputs": [],
   "source": [
    "#tf.reshape(B, shape= (3,2))"
   ]
  }
 ],
 "metadata": {
  "colab": {
   "authorship_tag": "ABX9TyN+6TpI6+DJYhrgPck6CIjP",
   "collapsed_sections": [],
   "name": "00_tensorflow_fundamentals.ipynb",
   "provenance": []
  },
  "kernelspec": {
   "display_name": "Python 3 (ipykernel)",
   "language": "python",
   "name": "python3"
  },
  "language_info": {
   "codemirror_mode": {
    "name": "ipython",
    "version": 3
   },
   "file_extension": ".py",
   "mimetype": "text/x-python",
   "name": "python",
   "nbconvert_exporter": "python",
   "pygments_lexer": "ipython3",
   "version": "3.10.4"
  }
 },
 "nbformat": 4,
 "nbformat_minor": 1
}
